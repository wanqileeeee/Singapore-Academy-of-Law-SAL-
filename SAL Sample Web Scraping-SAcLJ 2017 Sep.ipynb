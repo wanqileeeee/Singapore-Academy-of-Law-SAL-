{
 "cells": [
  {
   "cell_type": "markdown",
   "id": "4c9fbeee",
   "metadata": {},
   "source": [
    "## SAcLJ 2017 - Sep"
   ]
  },
  {
   "cell_type": "code",
   "execution_count": 2,
   "id": "36c82905",
   "metadata": {},
   "outputs": [],
   "source": [
    "from bs4 import BeautifulSoup\n",
    "#import requests library\n",
    "import requests"
   ]
  },
  {
   "cell_type": "code",
   "execution_count": 6,
   "id": "dc2ad364",
   "metadata": {},
   "outputs": [
    {
     "name": "stdout",
     "output_type": "stream",
     "text": [
      "['The Right Honourable the Lord Neuberger of Abbotsbury', 'Makoto Hong Cheng', 'David Llewelyn', 'Jeffrey Pinsler SC', 'David Tan & Benjamin Foo', 'Tan Yock Lin', 'Tan Zhong Xing', 'Tay Yong Seng & Jonathan Chan Tuan San', 'Nelson Goh', 'Hannah Lim Yee Fen', 'Paul McClelland', 'Jonathan Muk Chen Yeen', 'Benjamin Joshua Ong', 'Tan Jun Hua, Kenneth', 'Beatrice Mathilda Yeo Li Hui & Fiona Chew Yan Bei', 'The Honourable Justice Choo Han Teck']\n",
      "['Singapore Academy of Law Annual Lecture 2015 - \"Is Nothing Secret? Privacy and Confidentiality, Privacy, Freedom of Information and Whistleblowing in the Internet Age\" [Lecture]', 'Shaping a Common Law Duty to Give Reasons in Singapore - Of Fairness, Regulatory Paradoxes and Proportionate Remedies', 'Statutory Damages for Use of a “Counterfeit Trade Mark” and for Copyright Infringement in Singapore – A Radical Remedy in the Law of Intellectual Property or One in Need of a Rethink?', 'The Court’s Discretion to Exclude Evidence in Civil Cases and Emerging Implications in the Criminal Sphere – The Violet Thread of Justice', 'The Unbearable Lightness of Fair Dealing – Towards an Autochthonous Approach in Singapore', 'Rationalising and Simplifying the Presumption of Similarity of Laws', 'The New Era of Corporate Veil-Piercing – Concealed Cracks and Evaded Issues?', 'Singapore’s Bankruptcy Jurisdiction and the Absconding Debtor', \"An Assignee's Obligation to Arbitrate and the Principle of Conditional Benefit: Cassa di Risparmio di Parma e Piacenze SpA v Rals International Pte Ltd [2016] 1 SLR 79\", 'Trade Marks, Territoriality and Trusts – An Uncomfortable Trinity: Guy Neale v Nine Squares Pty Ltd [2015] 1 SLR 1097', 'Partial Non-use Cancellation of Trade Mark Registrations: Maier v ASOS plc [2015] EWHC Civ 220', 'Less Payne in the International Relocation of Children? BNS v BNT [2015] 3 SLR 973', 'New Approaches to the Constitutional Guarantee of Equality Before the Law: Lim Meng Suang v Attorney-General [2015] 1 SLR 26 (CA); [2013] 3 SLR 118 (HC), Tan Eng Hong v Attorney-General [2013] 4 SLR 1059 (HC); [2012] 4 SLR 476 (CA)', 'Interim Enforcement of an Adjudication Decision: PT Perusahaan Gas Negara (Persero) TBK v CRW Joint Operation [2015] 4 SLR 364', 'The Arbitration and Litigation of Minority Shareholder Disputes: Tomolugen Holdings Ltd v Silica Investors Ltd [2016] 1 SLR 373', 'Elizabeth Mertz, The Language of Law School (Oxford University Press, 2007) [Book Review]']\n"
     ]
    }
   ],
   "source": [
    "from selenium import webdriver\n",
    "from selenium.webdriver.chrome.service import Service\n",
    "from selenium.webdriver.common.by import By\n",
    "from selenium.webdriver.chrome.options import Options\n",
    "\n",
    "# Set up the Chrome driver\n",
    "service = Service('path/to/chromedriver')\n",
    "options = Options()\n",
    "options.add_argument('--headless')  # Run Chrome in headless mode (without GUI)\n",
    "driver = webdriver.Chrome(service=service, options=options)\n",
    "\n",
    "# Open the webpage\n",
    "driver.get('https://journalsonline.academypublishing.org.sg/Journals/Singapore-Academy-of-Law-Journal/e-Archive/ctl/SALArticlesListing/mid/495/IssueId=132')\n",
    "html = driver.page_source\n",
    "\n",
    "#extract content from pg 1\n",
    "author_name_list = []\n",
    "doc = BeautifulSoup(html, \"html.parser\")\n",
    "res = doc.find(class_ = \"container wrapper\")\n",
    "author_name1 = res.find_all(class_ = \"small\")\n",
    "article_title1 = res.find_all('b')\n",
    "\n",
    "\n",
    "# Find and click the button (assuming it has an ID 'buttonId')\n",
    "button = driver.find_element(By.XPATH,\"//a[contains(@href, \\\"__doPostBack('dnn$ctr495$SALArticlesListing$grdCatDtls','Page$2')\\\")]\")\n",
    "\n",
    "button.click()\n",
    "\n",
    "# Wait for the page to update (if needed)\n",
    "# ...\n",
    "\n",
    "# Extract the updated content\n",
    "updated_html = driver.page_source\n",
    "\n",
    "# Process the updated content using BeautifulSoup or any other parsing library\n",
    "doc = BeautifulSoup(updated_html, \"html.parser\")\n",
    "res = doc.find(class_ = \"container wrapper\")\n",
    "author_name2 = res.find_all(class_ = \"small\")\n",
    "article_title2 = res.find_all('b')\n",
    "\n",
    "\n",
    "author_name_final = author_name1 + author_name2\n",
    "article_title_final = article_title1 + article_title2\n",
    "\n",
    "\n",
    "y = len(author_name_final)\n",
    "for i in range(y):\n",
    "    tag = author_name_final[i]\n",
    "    text = tag.text.strip()\n",
    "    text = text.replace('\\xa0',' ')\n",
    "    text=text.replace('\\n', ' ')\n",
    "    author_name_final[i] = text\n",
    "    \n",
    "    \n",
    "   \n",
    "\n",
    "x = len(article_title_final)\n",
    "for i in range(x):\n",
    "    title = article_title_final[i]\n",
    "    text = title.text.strip()\n",
    "    article_title_final[i] = text\n",
    "    \n",
    "#     text = text.replace('\\xa0',' ')\n",
    "#     text=text.replace('\\n', ' ')\n",
    "#     text_list = text.split(' & ')\n",
    "    \n",
    "    \n",
    "print(author_name_final)\n",
    "print(article_title_final)\n",
    "\n",
    "\n",
    "    \n",
    "    \n",
    "\n",
    "\n",
    "\n",
    "# Close the driver\n",
    "driver.quit()\n",
    "\n",
    "\n",
    "\n",
    "\n",
    "\n",
    "\n"
   ]
  },
  {
   "cell_type": "code",
   "execution_count": 7,
   "id": "9955f72a",
   "metadata": {},
   "outputs": [
    {
     "name": "stdout",
     "output_type": "stream",
     "text": [
      "                                        Article Title  \\\n",
      "0   Singapore Academy of Law Annual Lecture 2015 -...   \n",
      "1   Shaping a Common Law Duty to Give Reasons in S...   \n",
      "2   Statutory Damages for Use of a “Counterfeit Tr...   \n",
      "3   The Court’s Discretion to Exclude Evidence in ...   \n",
      "4   The Unbearable Lightness of Fair Dealing – Tow...   \n",
      "5   Rationalising and Simplifying the Presumption ...   \n",
      "6   The New Era of Corporate Veil-Piercing – Conce...   \n",
      "7   Singapore’s Bankruptcy Jurisdiction and the Ab...   \n",
      "8   An Assignee's Obligation to Arbitrate and the ...   \n",
      "9   Trade Marks, Territoriality and Trusts – An Un...   \n",
      "10  Partial Non-use Cancellation of Trade Mark Reg...   \n",
      "11  Less Payne in the International Relocation of ...   \n",
      "12  New Approaches to the Constitutional Guarantee...   \n",
      "13  Interim Enforcement of an Adjudication Decisio...   \n",
      "14  The Arbitration and Litigation of Minority Sha...   \n",
      "15  Elizabeth Mertz, The Language of Law School (O...   \n",
      "\n",
      "                                               Author  \n",
      "0   The Right Honourable the Lord Neuberger of Abb...  \n",
      "1                                   Makoto Hong Cheng  \n",
      "2                                      David Llewelyn  \n",
      "3                                  Jeffrey Pinsler SC  \n",
      "4                            David Tan & Benjamin Foo  \n",
      "5                                        Tan Yock Lin  \n",
      "6                                      Tan Zhong Xing  \n",
      "7              Tay Yong Seng & Jonathan Chan Tuan San  \n",
      "8                                          Nelson Goh  \n",
      "9                                  Hannah Lim Yee Fen  \n",
      "10                                    Paul McClelland  \n",
      "11                             Jonathan Muk Chen Yeen  \n",
      "12                                Benjamin Joshua Ong  \n",
      "13                               Tan Jun Hua, Kenneth  \n",
      "14  Beatrice Mathilda Yeo Li Hui & Fiona Chew Yan Bei  \n",
      "15               The Honourable Justice Choo Han Teck  \n"
     ]
    }
   ],
   "source": [
    "import pandas as pd\n",
    "\n",
    "df = pd.DataFrame({'Article Title': article_title_final, 'Author': author_name_final})\n",
    "df.to_csv('SAcLJ 2016 Mar.csv',index=False)\n",
    "\n",
    "\n",
    "print(df)"
   ]
  },
  {
   "cell_type": "code",
   "execution_count": 8,
   "id": "16749ddf",
   "metadata": {},
   "outputs": [
    {
     "name": "stdout",
     "output_type": "stream",
     "text": [
      "['Singapore Academy of Law Annual Lecture 2015 - \"Is Nothing Secret? Privacy and Confidentiality, Privacy, Freedom of Information and Whistleblowing in the Internet Age\" [Lecture]', 'Shaping a Common Law Duty to Give Reasons in Singapore - Of Fairness, Regulatory Paradoxes and Proportionate Remedies', 'Statutory Damages for Use of a “Counterfeit Trade Mark” and for Copyright Infringement in Singapore – A Radical Remedy in the Law of Intellectual Property or One in Need of a Rethink?', 'The Court’s Discretion to Exclude Evidence in Civil Cases and Emerging Implications in the Criminal Sphere – The Violet Thread of Justice', 'The Unbearable Lightness of Fair Dealing – Towards an Autochthonous Approach in Singapore', 'Rationalising and Simplifying the Presumption of Similarity of Laws', 'The New Era of Corporate Veil-Piercing – Concealed Cracks and Evaded Issues?', 'Singapore’s Bankruptcy Jurisdiction and the Absconding Debtor', \"An Assignee's Obligation to Arbitrate and the Principle of Conditional Benefit: Cassa di Risparmio di Parma e Piacenze SpA v Rals International Pte Ltd [2016] 1 SLR 79\", 'Trade Marks, Territoriality and Trusts – An Uncomfortable Trinity: Guy Neale v Nine Squares Pty Ltd [2015] 1 SLR 1097', 'Partial Non-use Cancellation of Trade Mark Registrations: Maier v ASOS plc [2015] EWHC Civ 220', 'Less Payne in the International Relocation of Children? BNS v BNT [2015] 3 SLR 973', 'New Approaches to the Constitutional Guarantee of Equality Before the Law: Lim Meng Suang v Attorney-General [2015] 1 SLR 26 (CA); [2013] 3 SLR 118 (HC), Tan Eng Hong v Attorney-General [2013] 4 SLR 1059 (HC); [2012] 4 SLR 476 (CA)', 'Interim Enforcement of an Adjudication Decision: PT Perusahaan Gas Negara (Persero) TBK v CRW Joint Operation [2015] 4 SLR 364', 'The Arbitration and Litigation of Minority Shareholder Disputes: Tomolugen Holdings Ltd v Silica Investors Ltd [2016] 1 SLR 373', 'Elizabeth Mertz, The Language of Law School (Oxford University Press, 2007) [Book Review]']\n"
     ]
    }
   ],
   "source": [
    "print(article_title_final)"
   ]
  },
  {
   "cell_type": "code",
   "execution_count": 9,
   "id": "1ee7ad39",
   "metadata": {},
   "outputs": [
    {
     "data": {
      "text/plain": [
       "Article Title                                                                                                                                                                                                                            Author                                               \n",
       "An Assignee's Obligation to Arbitrate and the Principle of Conditional Benefit: Cassa di Risparmio di Parma e Piacenze SpA v Rals International Pte Ltd [2016] 1 SLR 79                                                                  Nelson Goh                                               1\n",
       "Elizabeth Mertz, The Language of Law School (Oxford University Press, 2007) [Book Review]                                                                                                                                                The Honourable Justice Choo Han Teck                     1\n",
       "Interim Enforcement of an Adjudication Decision: PT Perusahaan Gas Negara (Persero) TBK v CRW Joint Operation [2015] 4 SLR 364                                                                                                           Tan Jun Hua, Kenneth                                     1\n",
       "Less Payne in the International Relocation of Children? BNS v BNT [2015] 3 SLR 973                                                                                                                                                       Jonathan Muk Chen Yeen                                   1\n",
       "New Approaches to the Constitutional Guarantee of Equality Before the Law: Lim Meng Suang v Attorney-General [2015] 1 SLR 26 (CA); [2013] 3 SLR 118 (HC), Tan Eng Hong v Attorney-General [2013] 4 SLR 1059 (HC); [2012] 4 SLR 476 (CA)  Benjamin Joshua Ong                                      1\n",
       "Partial Non-use Cancellation of Trade Mark Registrations: Maier v ASOS plc [2015] EWHC Civ 220                                                                                                                                           Paul McClelland                                          1\n",
       "Rationalising and Simplifying the Presumption of Similarity of Laws                                                                                                                                                                      Tan Yock Lin                                             1\n",
       "Shaping a Common Law Duty to Give Reasons in Singapore - Of Fairness, Regulatory Paradoxes and Proportionate Remedies                                                                                                                    Makoto Hong Cheng                                        1\n",
       "Singapore Academy of Law Annual Lecture 2015 - \"Is Nothing Secret? Privacy and Confidentiality, Privacy, Freedom of Information and Whistleblowing in the Internet Age\" [Lecture]                                                        The Right Honourable the Lord Neuberger of Abbotsbury    1\n",
       "Singapore’s Bankruptcy Jurisdiction and the Absconding Debtor                                                                                                                                                                            Tay Yong Seng & Jonathan Chan Tuan San                   1\n",
       "Statutory Damages for Use of a “Counterfeit Trade Mark” and for Copyright Infringement in Singapore – A Radical Remedy in the Law of Intellectual Property or One in Need of a Rethink?                                                  David Llewelyn                                           1\n",
       "The Arbitration and Litigation of Minority Shareholder Disputes: Tomolugen Holdings Ltd v Silica Investors Ltd [2016] 1 SLR 373                                                                                                          Beatrice Mathilda Yeo Li Hui & Fiona Chew Yan Bei        1\n",
       "The Court’s Discretion to Exclude Evidence in Civil Cases and Emerging Implications in the Criminal Sphere – The Violet Thread of Justice                                                                                                Jeffrey Pinsler SC                                       1\n",
       "The New Era of Corporate Veil-Piercing – Concealed Cracks and Evaded Issues?                                                                                                                                                             Tan Zhong Xing                                           1\n",
       "The Unbearable Lightness of Fair Dealing – Towards an Autochthonous Approach in Singapore                                                                                                                                                David Tan & Benjamin Foo                                 1\n",
       "Trade Marks, Territoriality and Trusts – An Uncomfortable Trinity: Guy Neale v Nine Squares Pty Ltd [2015] 1 SLR 1097                                                                                                                    Hannah Lim Yee Fen                                       1\n",
       "dtype: int64"
      ]
     },
     "execution_count": 9,
     "metadata": {},
     "output_type": "execute_result"
    }
   ],
   "source": [
    "df.value_counts()"
   ]
  },
  {
   "cell_type": "code",
   "execution_count": null,
   "id": "3bd7ecd6",
   "metadata": {},
   "outputs": [],
   "source": []
  }
 ],
 "metadata": {
  "kernelspec": {
   "display_name": "Python 3 (ipykernel)",
   "language": "python",
   "name": "python3"
  },
  "language_info": {
   "codemirror_mode": {
    "name": "ipython",
    "version": 3
   },
   "file_extension": ".py",
   "mimetype": "text/x-python",
   "name": "python",
   "nbconvert_exporter": "python",
   "pygments_lexer": "ipython3",
   "version": "3.9.15"
  }
 },
 "nbformat": 4,
 "nbformat_minor": 5
}
