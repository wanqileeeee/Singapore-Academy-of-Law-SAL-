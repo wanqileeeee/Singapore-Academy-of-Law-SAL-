{
 "cells": [
  {
   "cell_type": "markdown",
   "id": "4c9fbeee",
   "metadata": {},
   "source": [
    "## AR 2017"
   ]
  },
  {
   "cell_type": "code",
   "execution_count": 2,
   "id": "36c82905",
   "metadata": {},
   "outputs": [],
   "source": [
    "from bs4 import BeautifulSoup\n",
    "\n",
    "import requests\n"
   ]
  },
  {
   "cell_type": "code",
   "execution_count": 6,
   "id": "dc2ad364",
   "metadata": {},
   "outputs": [
    {
     "name": "stderr",
     "output_type": "stream",
     "text": [
      "Error getting version of chromedriver 115. Retrying with chromedriver 114 (attempt 1/5)\n"
     ]
    },
    {
     "name": "stdout",
     "output_type": "stream",
     "text": [
      "['Thio Li-ann', 'Toh Kian Sing & Vivian Ang Hui Ming', 'Pearlie Koh', 'Lawrence Boo & Chloé Terrapon', 'Dora Neo', 'Tracey Evans Chan & Prem Raj Prabakaran', 'Chow Kok Fong, Christopher Chuah & Mohan Pillay', 'Cavinder Bull SC & Chia Voon Jiet', 'Dan W Puchniak, Tan Cheng Han SC & Samantha S Tang', 'Kala Anandarajah', 'Joel Lee Tye Beng', 'Goh Yihan, Lee Pey Woan & Tham Chee Ho', 'Prem Raj Prabakaran & Mansoor Amir', 'Mohamed Faizal Mohamed Abdul Kadir, Wong Woon Kwong & Sarah Shi', 'Tang Hang Wu', 'Chen Siyuan', 'Kelvin Poon & Sim Kwan Kiat', 'Winston Kwek Choon Lin', 'David Tan & Stanley Lai SC', 'Teo Keang Sood', 'Lai Yew Fei', 'Mohamed Faizal Mohamed Abdul Kadir', 'Yip Man', 'Tan Kay Kheng & Leonard Goh', 'Hans Tjio', 'Kumaralingam Amirthalingam & Gary Chan Kok Yew']\n",
      "['Administrative and Constitutional Law', 'Admiralty and Shipping Law', 'Agency Law', 'Arbitration', 'Banking Law', 'Biomedical Law and Ethics', 'Building and Construction Law', 'Civil Procedure', 'Company Law', 'Competition Law', 'Conflict of Laws', 'Contract Law', 'Criminal Law', 'Criminal Procedure, Evidence and Sentencing', 'Equity and Trusts', 'Family Law', 'Insolvency Law', 'Insurance Law', 'Intellectual Property Law', 'Land Law', 'Legal Profession', 'Muslim Law', 'Restitution', 'Revenue and Tax Law', 'Securities and Financial Services Regulation', 'Tort Law']\n"
     ]
    }
   ],
   "source": [
    "from selenium import webdriver\n",
    "from selenium.webdriver.chrome.service import Service\n",
    "from selenium.webdriver.common.by import By\n",
    "from selenium.webdriver.chrome.options import Options\n",
    "\n",
    "# Set up the Chrome driver\n",
    "service = Service('path/to/chromedriver')\n",
    "options = Options()\n",
    "options.add_argument('--headless')  # Run Chrome in headless mode (without GUI)\n",
    "driver = webdriver.Chrome(service=service, options=options)\n",
    "\n",
    "# Open the webpage\n",
    "driver.get('https://journalsonline.academypublishing.org.sg/Journals/Singapore-Academy-of-Law-Annual-Review-of-Singapore-Cases/e-Archive/ctl/SALArticlesListing/mid/512/IssueId=155')\n",
    "html = driver.page_source\n",
    "\n",
    "#extract content from pg 1\n",
    "author_name_list = []\n",
    "doc = BeautifulSoup(html, \"html.parser\")\n",
    "res = doc.find(class_ = \"container wrapper\")\n",
    "author_name1 = res.find_all(class_ = \"small\")\n",
    "article_title1 = res.find_all('b')\n",
    "\n",
    "\n",
    "# Find and click the button (assuming it has an ID 'buttonId')\n",
    "button = driver.find_element(By.XPATH,\"//a[contains(@href, \\\"__doPostBack('dnn$ctr512$SALArticlesListing$grdCatDtls','Page$2')\\\")]\")\n",
    "\n",
    "button.click()\n",
    "\n",
    "# Wait for the page to update (if needed)\n",
    "# ...\n",
    "\n",
    "# Extract the updated content\n",
    "updated_html = driver.page_source\n",
    "\n",
    "# Process the updated content using BeautifulSoup or any other parsing library\n",
    "doc = BeautifulSoup(updated_html, \"html.parser\")\n",
    "res = doc.find(class_ = \"container wrapper\")\n",
    "author_name2 = res.find_all(class_ = \"small\")\n",
    "article_title2 = res.find_all('b')\n",
    "\n",
    "# Find and click the button (assuming it has an ID 'buttonId')\n",
    "button = driver.find_element(By.XPATH,\"//a[contains(@href, \\\"__doPostBack('dnn$ctr512$SALArticlesListing$grdCatDtls','Page$3')\\\")]\")\n",
    "\n",
    "button.click()\n",
    "\n",
    "# Wait for the page to update (if needed)\n",
    "# ...\n",
    "\n",
    "# Extract the updated content\n",
    "updated_html2 = driver.page_source\n",
    "\n",
    "# Process the updated content using BeautifulSoup or any other parsing library\n",
    "doc = BeautifulSoup(updated_html2, \"html.parser\")\n",
    "res = doc.find(class_ = \"container wrapper\")\n",
    "author_name3 = res.find_all(class_ = \"small\")\n",
    "article_title3 = res.find_all('b')\n",
    "# print(heading)\n",
    "\n",
    "author_name_final = author_name1 + author_name2 + author_name3\n",
    "article_title_final = article_title1 + article_title2 + article_title3\n",
    "\n",
    "\n",
    "y = len(author_name_final)\n",
    "for i in range(y):\n",
    "    tag = author_name_final[i]\n",
    "    text = tag.text.strip()\n",
    "    text = text.replace('\\xa0',' ')\n",
    "    text=text.replace('\\n', ' ')\n",
    "    author_name_final[i] = text\n",
    "    \n",
    "    \n",
    "   \n",
    "\n",
    "x = len(article_title_final)\n",
    "for i in range(x):\n",
    "    title = article_title_final[i]\n",
    "    text = title.text.strip()\n",
    "    article_title_final[i] = text\n",
    "    \n",
    "#     text = text.replace('\\xa0',' ')\n",
    "#     text=text.replace('\\n', ' ')\n",
    "#     text_list = text.split(' & ')\n",
    "    \n",
    "    \n",
    "print(author_name_final)\n",
    "print(article_title_final)\n",
    "\n",
    "\n",
    "    \n",
    "    \n",
    "\n",
    "\n",
    "\n",
    "# Close the driver\n",
    "driver.quit()\n",
    "\n",
    "\n",
    "\n",
    "\n",
    "\n",
    "\n"
   ]
  },
  {
   "cell_type": "code",
   "execution_count": 7,
   "id": "9955f72a",
   "metadata": {},
   "outputs": [
    {
     "name": "stdout",
     "output_type": "stream",
     "text": [
      "                                   Article Title  \\\n",
      "0          Administrative and Constitutional Law   \n",
      "1                     Admiralty and Shipping Law   \n",
      "2                                     Agency Law   \n",
      "3                                    Arbitration   \n",
      "4                                    Banking Law   \n",
      "5                      Biomedical Law and Ethics   \n",
      "6                  Building and Construction Law   \n",
      "7                                Civil Procedure   \n",
      "8                                    Company Law   \n",
      "9                                Competition Law   \n",
      "10                              Conflict of Laws   \n",
      "11                                  Contract Law   \n",
      "12                                  Criminal Law   \n",
      "13   Criminal Procedure, Evidence and Sentencing   \n",
      "14                             Equity and Trusts   \n",
      "15                                    Family Law   \n",
      "16                                Insolvency Law   \n",
      "17                                 Insurance Law   \n",
      "18                     Intellectual Property Law   \n",
      "19                                      Land Law   \n",
      "20                              Legal Profession   \n",
      "21                                    Muslim Law   \n",
      "22                                   Restitution   \n",
      "23                           Revenue and Tax Law   \n",
      "24  Securities and Financial Services Regulation   \n",
      "25                                      Tort Law   \n",
      "\n",
      "                                               Author  \n",
      "0                                         Thio Li-ann  \n",
      "1                 Toh Kian Sing & Vivian Ang Hui Ming  \n",
      "2                                         Pearlie Koh  \n",
      "3                       Lawrence Boo & Chloé Terrapon  \n",
      "4                                            Dora Neo  \n",
      "5             Tracey Evans Chan & Prem Raj Prabakaran  \n",
      "6     Chow Kok Fong, Christopher Chuah & Mohan Pillay  \n",
      "7                   Cavinder Bull SC & Chia Voon Jiet  \n",
      "8   Dan W Puchniak, Tan Cheng Han SC & Samantha S ...  \n",
      "9                                    Kala Anandarajah  \n",
      "10                                  Joel Lee Tye Beng  \n",
      "11             Goh Yihan, Lee Pey Woan & Tham Chee Ho  \n",
      "12                 Prem Raj Prabakaran & Mansoor Amir  \n",
      "13  Mohamed Faizal Mohamed Abdul Kadir, Wong Woon ...  \n",
      "14                                       Tang Hang Wu  \n",
      "15                                        Chen Siyuan  \n",
      "16                        Kelvin Poon & Sim Kwan Kiat  \n",
      "17                             Winston Kwek Choon Lin  \n",
      "18                         David Tan & Stanley Lai SC  \n",
      "19                                     Teo Keang Sood  \n",
      "20                                        Lai Yew Fei  \n",
      "21                 Mohamed Faizal Mohamed Abdul Kadir  \n",
      "22                                            Yip Man  \n",
      "23                        Tan Kay Kheng & Leonard Goh  \n",
      "24                                          Hans Tjio  \n",
      "25     Kumaralingam Amirthalingam & Gary Chan Kok Yew  \n"
     ]
    }
   ],
   "source": [
    "import pandas as pd\n",
    "\n",
    "df = pd.DataFrame({'Article Title': article_title_final, 'Author': author_name_final})\n",
    "df.to_csv('AR 2017.csv',index=False)\n",
    "\n",
    "\n",
    "print(df)"
   ]
  },
  {
   "cell_type": "code",
   "execution_count": 8,
   "id": "16749ddf",
   "metadata": {},
   "outputs": [
    {
     "name": "stdout",
     "output_type": "stream",
     "text": [
      "['Administrative and Constitutional Law', 'Admiralty and Shipping Law', 'Agency Law', 'Arbitration', 'Banking Law', 'Biomedical Law and Ethics', 'Building and Construction Law', 'Civil Procedure', 'Company Law', 'Competition Law', 'Conflict of Laws', 'Contract Law', 'Criminal Law', 'Criminal Procedure, Evidence and Sentencing', 'Equity and Trusts', 'Family Law', 'Insolvency Law', 'Insurance Law', 'Intellectual Property Law', 'Land Law', 'Legal Profession', 'Muslim Law', 'Restitution', 'Revenue and Tax Law', 'Securities and Financial Services Regulation', 'Tort Law']\n"
     ]
    }
   ],
   "source": [
    "print(article_title_final)"
   ]
  },
  {
   "cell_type": "code",
   "execution_count": 9,
   "id": "1ee7ad39",
   "metadata": {},
   "outputs": [
    {
     "data": {
      "text/plain": [
       "Article Title                                 Author                                                         \n",
       "Administrative and Constitutional Law         Thio Li-ann                                                        1\n",
       "Admiralty and Shipping Law                    Toh Kian Sing & Vivian Ang Hui Ming                                1\n",
       "Securities and Financial Services Regulation  Hans Tjio                                                          1\n",
       "Revenue and Tax Law                           Tan Kay Kheng & Leonard Goh                                        1\n",
       "Restitution                                   Yip Man                                                            1\n",
       "Muslim Law                                    Mohamed Faizal Mohamed Abdul Kadir                                 1\n",
       "Legal Profession                              Lai Yew Fei                                                        1\n",
       "Land Law                                      Teo Keang Sood                                                     1\n",
       "Intellectual Property Law                     David Tan & Stanley Lai SC                                         1\n",
       "Insurance Law                                 Winston Kwek Choon Lin                                             1\n",
       "Insolvency Law                                Kelvin Poon & Sim Kwan Kiat                                        1\n",
       "Family Law                                    Chen Siyuan                                                        1\n",
       "Equity and Trusts                             Tang Hang Wu                                                       1\n",
       "Criminal Procedure, Evidence and Sentencing   Mohamed Faizal Mohamed Abdul Kadir, Wong Woon Kwong & Sarah Shi    1\n",
       "Criminal Law                                  Prem Raj Prabakaran & Mansoor Amir                                 1\n",
       "Contract Law                                  Goh Yihan, Lee Pey Woan & Tham Chee Ho                             1\n",
       "Conflict of Laws                              Joel Lee Tye Beng                                                  1\n",
       "Competition Law                               Kala Anandarajah                                                   1\n",
       "Company Law                                   Dan W Puchniak, Tan Cheng Han SC & Samantha S Tang                 1\n",
       "Civil Procedure                               Cavinder Bull SC & Chia Voon Jiet                                  1\n",
       "Building and Construction Law                 Chow Kok Fong, Christopher Chuah & Mohan Pillay                    1\n",
       "Biomedical Law and Ethics                     Tracey Evans Chan & Prem Raj Prabakaran                            1\n",
       "Banking Law                                   Dora Neo                                                           1\n",
       "Arbitration                                   Lawrence Boo & Chloé Terrapon                                      1\n",
       "Agency Law                                    Pearlie Koh                                                        1\n",
       "Tort Law                                      Kumaralingam Amirthalingam & Gary Chan Kok Yew                     1\n",
       "dtype: int64"
      ]
     },
     "execution_count": 9,
     "metadata": {},
     "output_type": "execute_result"
    }
   ],
   "source": [
    "df.value_counts()"
   ]
  },
  {
   "cell_type": "code",
   "execution_count": null,
   "id": "3bd7ecd6",
   "metadata": {},
   "outputs": [],
   "source": []
  }
 ],
 "metadata": {
  "kernelspec": {
   "display_name": "Python 3 (ipykernel)",
   "language": "python",
   "name": "python3"
  },
  "language_info": {
   "codemirror_mode": {
    "name": "ipython",
    "version": 3
   },
   "file_extension": ".py",
   "mimetype": "text/x-python",
   "name": "python",
   "nbconvert_exporter": "python",
   "pygments_lexer": "ipython3",
   "version": "3.9.15"
  }
 },
 "nbformat": 4,
 "nbformat_minor": 5
}
