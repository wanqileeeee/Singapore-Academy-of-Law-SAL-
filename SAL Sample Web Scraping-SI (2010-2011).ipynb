{
 "cells": [
  {
   "cell_type": "markdown",
   "id": "4c9fbeee",
   "metadata": {},
   "source": [
    "## SI 2010-2011"
   ]
  },
  {
   "cell_type": "code",
   "execution_count": 2,
   "id": "36c82905",
   "metadata": {},
   "outputs": [],
   "source": [
    "from bs4 import BeautifulSoup\n",
    "#import requests library\n",
    "import requests\n",
    "\n"
   ]
  },
  {
   "cell_type": "markdown",
   "id": "d7c22fb5",
   "metadata": {},
   "source": [
    "## SI 2011"
   ]
  },
  {
   "cell_type": "code",
   "execution_count": 6,
   "id": "dc2ad364",
   "metadata": {},
   "outputs": [
    {
     "name": "stdout",
     "output_type": "stream",
     "text": [
      "['Douglas M Branson', 'Brenda Hannigan', 'John H Farrar', 'Susan Watson', 'Walter Woon SC', 'Tan Cheng Han SC', 'Alexander F H Loke', 'Pearlie Koh', 'Tan Lay Hong', 'Wee Meng Seng']\n",
      "[<b>A Business Judgment Rule for Incorporating Jurisdictions in Asia?</b>, <b>Branson</b>, <b>Branson</b>, <b>Reconfiguring the No Conflict Rule: Judicial Strictures, a Statutory Restatement and the Opportunistic Director</b>, <b>Hannigan</b>, <b>Hannigan</b>, <b>Directors’ Duties of Care – Issues of Classification, Solvency and Business Judgment and the Dangers of Legal Transplants</b>, <b>Farrar</b>, <b>Farrar</b>, <b>Conceptual Confusion – Organs, Agents and Identity in the English Courts</b>, <b>Reforming Company Law in Singapore</b>, <b>Woon</b>, <b>Woon</b>, <b>Tortious Acts and Directors</b>, <b>Tan</b>, <b>Tan</b>, <b>Rights, Duties and the Validation of Irregularities</b>, <b>Loke</b>, <b>Loke</b>, <b>The Shareholder’s Personal Claim – Allowing Recovery for Reflective Losses</b>, <b>Koh</b>, <b>Koh</b>, <b>Family-Owned Firms in Singapore – Legal Strategies for Constraining Self-dealing in Concentrated Ownership Structures</b>, <b>Lessons for the Development of Singapore’s International Insolvency Law</b>, <b>Wee</b>, <b>Wee</b>]\n"
     ]
    }
   ],
   "source": [
    "from selenium import webdriver\n",
    "from selenium.webdriver.chrome.service import Service\n",
    "from selenium.webdriver.common.by import By\n",
    "from selenium.webdriver.chrome.options import Options\n",
    "\n",
    "# Set up the Chrome driver\n",
    "service = Service('path/to/chromedriver')\n",
    "options = Options()\n",
    "options.add_argument('--headless')  # Run Chrome in headless mode (without GUI)<a href=\"javascript:\">2</a>\n",
    "driver = webdriver.Chrome(service=service, options=options)\n",
    "\n",
    "# Open the webpage\n",
    "driver.get('https://journalsonline.academypublishing.org.sg/Journals/Singapore-Academy-of-Law-Journal-Special-Issue/e-Archive/ctl/SALArticlesListing/mid/513/IssueId=46')\n",
    "html = driver.page_source\n",
    "\n",
    "#extract content from pg 1<a href=\"javascript:\">2</a>\n",
    "author_name_list = []\n",
    "doc = BeautifulSoup(html, \"html.parser\")\n",
    "res = doc.find(class_ = \"container wrapper\")\n",
    "author_name1 = res.find_all(class_ = \"small\")\n",
    "article_title1 = res.find_all('b')\n",
    "\n",
    "\n",
    "author_name_final = author_name1\n",
    "article_title_final = article_title1 \n",
    "\n",
    "\n",
    "y = len(author_name_final)\n",
    "for i in range(y):\n",
    "    tag = author_name_final[i]\n",
    "    text = tag.text.strip()\n",
    "    text = text.replace('\\xa0',' ')\n",
    "    text=text.replace('\\n', ' ')\n",
    "    author_name_final[i] = text\n",
    "    \n",
    "    \n",
    "   \n",
    "\n",
    "x = len(article_title_final)\n",
    "article_title_final_v = []\n",
    "for i in range(x):\n",
    "    title = article_title_final[i]\n",
    "    text_plain = title.text.strip()\n",
    "    \n",
    "    if len(text_plain.split(' '))!= 1:\n",
    "        \n",
    "        article_title_final_v.append(text_plain)\n",
    "    \n",
    "#     text = text.replace('\\xa0',' ')\n",
    "#     text=text.replace('\\n', ' ')\n",
    "#     text_list = text.split(' & ')\n",
    "    \n",
    "    \n",
    "print(author_name_final)\n",
    "print(article_title_final)\n",
    "\n",
    "\n",
    "    \n",
    "    \n",
    "\n",
    "\n",
    "\n",
    "# Close the driver\n",
    "driver.quit()\n",
    "\n",
    "\n",
    "\n",
    "\n",
    "\n",
    "\n"
   ]
  },
  {
   "cell_type": "code",
   "execution_count": 7,
   "id": "9955f72a",
   "metadata": {},
   "outputs": [
    {
     "name": "stdout",
     "output_type": "stream",
     "text": [
      "                                       Article Title              Author  \\\n",
      "0  A Business Judgment Rule for Incorporating Jur...   Douglas M Branson   \n",
      "1  Reconfiguring the No Conflict Rule: Judicial S...     Brenda Hannigan   \n",
      "2  Directors’ Duties of Care – Issues of Classifi...       John H Farrar   \n",
      "3  Conceptual Confusion – Organs, Agents and Iden...        Susan Watson   \n",
      "4                 Reforming Company Law in Singapore      Walter Woon SC   \n",
      "5                        Tortious Acts and Directors    Tan Cheng Han SC   \n",
      "6  Rights, Duties and the Validation of Irregular...  Alexander F H Loke   \n",
      "7  The Shareholder’s Personal Claim – Allowing Re...         Pearlie Koh   \n",
      "8  Family-Owned Firms in Singapore – Legal Strate...        Tan Lay Hong   \n",
      "9  Lessons for the Development of Singapore’s Int...       Wee Meng Seng   \n",
      "\n",
      "   Year  Subject  \n",
      "0  2011  Company  \n",
      "1  2011  Company  \n",
      "2  2011  Company  \n",
      "3  2011  Company  \n",
      "4  2011  Company  \n",
      "5  2011  Company  \n",
      "6  2011  Company  \n",
      "7  2011  Company  \n",
      "8  2011  Company  \n",
      "9  2011  Company  \n"
     ]
    }
   ],
   "source": [
    "import pandas as pd\n",
    "\n",
    "df = pd.DataFrame({'Article Title': article_title_final_v, 'Author': author_name_final})\n",
    "df['Year']= '2011'\n",
    "df['Subject'] = 'Company'\n",
    "df.to_csv('SI 2011.csv',index=False)\n",
    "\n",
    "\n",
    "print(df)"
   ]
  },
  {
   "cell_type": "code",
   "execution_count": 8,
   "id": "16749ddf",
   "metadata": {},
   "outputs": [
    {
     "name": "stdout",
     "output_type": "stream",
     "text": [
      "[<b>A Business Judgment Rule for Incorporating Jurisdictions in Asia?</b>, <b>Branson</b>, <b>Branson</b>, <b>Reconfiguring the No Conflict Rule: Judicial Strictures, a Statutory Restatement and the Opportunistic Director</b>, <b>Hannigan</b>, <b>Hannigan</b>, <b>Directors’ Duties of Care – Issues of Classification, Solvency and Business Judgment and the Dangers of Legal Transplants</b>, <b>Farrar</b>, <b>Farrar</b>, <b>Conceptual Confusion – Organs, Agents and Identity in the English Courts</b>, <b>Reforming Company Law in Singapore</b>, <b>Woon</b>, <b>Woon</b>, <b>Tortious Acts and Directors</b>, <b>Tan</b>, <b>Tan</b>, <b>Rights, Duties and the Validation of Irregularities</b>, <b>Loke</b>, <b>Loke</b>, <b>The Shareholder’s Personal Claim – Allowing Recovery for Reflective Losses</b>, <b>Koh</b>, <b>Koh</b>, <b>Family-Owned Firms in Singapore – Legal Strategies for Constraining Self-dealing in Concentrated Ownership Structures</b>, <b>Lessons for the Development of Singapore’s International Insolvency Law</b>, <b>Wee</b>, <b>Wee</b>]\n"
     ]
    }
   ],
   "source": [
    "print(article_title_final)"
   ]
  },
  {
   "cell_type": "markdown",
   "id": "9160a50e",
   "metadata": {},
   "source": [
    "## SI 2010 - Biomed"
   ]
  },
  {
   "cell_type": "code",
   "execution_count": 9,
   "id": "1ee7ad39",
   "metadata": {},
   "outputs": [
    {
     "name": "stdout",
     "output_type": "stream",
     "text": [
      "[<p class=\"small\">Bartha Maria <strong>Knoppers</strong> &amp; W Calvin <strong>Ho</strong></p>, <p class=\"small\">Alexander M <b>Capron</b></p>, <p class=\"small\">The Honourable Michael <strong>Kirby</strong> AC CMG</p>, <p class=\"small\">Roger <b>Brownsword</b></p>, <p class=\"small\">The Honourable Justice <b>Choo</b> Han Teck</p>, <p class=\"small\">Charles <b>Lim</b> Aeng Cheng</p>, <p class=\"small\"><b>Kaan</b> Sheung-Hung Terry</p>, <p class=\"small\">Ryuichi <b>Ida</b></p>, <p class=\"small\">Elizabeth Siew-Kuan <strong>Ng</strong></p>, <p class=\"small\">Jeffrey <b>Chan</b> Wah Teck SC</p>, <p class=\"small\">Tracey Evans <b>Chan</b></p>, <p class=\"small\">W Calvin <b>Ho</b></p>]\n",
      "[<b>Introduction</b>, <b>American Law and the Governance of Research Ethics – Time for International Change</b>, <b>Capron</b>, <b>Capron</b>, <b>Health Care and Global Justice</b>, <b>Regulating the Life Sciences, Pluralism and the Limits of Deliberative Democracy</b>, <b>Brownsword</b>, <b>Brownsword</b>, <b>Moral Facts and Objective Law – Challenges for the Court in Bioethical Issues</b>, <b>Choo</b>, <b>Choo</b>, <b>Life and Death – A Decade of Biomedical Law Making 2000–2010</b>, <b>Lim</b>, <b>Lim</b>, <b>At the Beginning of Life</b>, <b>Kaan</b>, <b>Kaan</b>, <b>Stem Cell Policies and Regulations in Japan</b>, <b>Ida</b>, <b>Ida</b>, <b>Immoral Inventions – Interaction between Ethics and Biotechnology Patent Law</b>, <b>Significant Bioethical Issues at the End of Life</b>, <b>Chan</b>, <b>Chan</b>, <b>The Challenge of Regulating Human Biomedical Research</b>, <b>Chan</b>, <b>Chan</b>, <b>Safeguard the Integrity of Scientific Research – Build a Maison à Colombage</b>, <b>Ho</b>, <b>Ho</b>]\n",
      "['Bartha Maria Knoppers & W Calvin Ho', 'Alexander M Capron', 'The Honourable Michael Kirby AC CMG', 'Roger Brownsword', 'The Honourable Justice Choo Han Teck', 'Charles Lim Aeng Cheng', 'Kaan Sheung-Hung Terry', 'Ryuichi Ida', 'Elizabeth Siew-Kuan Ng', 'Jeffrey Chan Wah Teck SC', 'Tracey Evans Chan', 'W Calvin Ho']\n",
      "['Introduction', 'American Law and the Governance of Research Ethics – Time for International Change', 'Health Care and Global Justice', 'Regulating the Life Sciences, Pluralism and the Limits of Deliberative Democracy', 'Moral Facts and Objective Law – Challenges for the Court in Bioethical Issues', 'Life and Death – A Decade of Biomedical Law Making 2000–2010', 'At the Beginning of Life', 'Stem Cell Policies and Regulations in Japan', 'Immoral Inventions – Interaction between Ethics and Biotechnology Patent Law', 'Significant Bioethical Issues at the End of Life', 'The Challenge of Regulating Human Biomedical Research', 'Safeguard the Integrity of Scientific Research – Build a Maison à Colombage']\n"
     ]
    }
   ],
   "source": [
    "\n",
    "\n",
    "# Set up the Chrome driver\n",
    "service = Service('path/to/chromedriver')\n",
    "options = Options()\n",
    "options.add_argument('--headless')  # Run Chrome in headless mode (without GUI)<a href=\"javascript:\">2</a>\n",
    "driver = webdriver.Chrome(service=service, options=options)\n",
    "\n",
    "# Open the webpage\n",
    "driver.get('https://journalsonline.academypublishing.org.sg/Journals/Singapore-Academy-of-Law-Journal-Special-Issue/e-Archive/ctl/SALArticlesListing/mid/513/IssueId=57')\n",
    "html = driver.page_source\n",
    "\n",
    "#extract content from pg 1\n",
    "author_name_list = []\n",
    "doc = BeautifulSoup(html, \"html.parser\")\n",
    "res = doc.find(class_ = \"container wrapper\")\n",
    "author_name1 = res.find_all(class_ = \"small\")\n",
    "article_title1 = res.find_all('b')\n",
    "\n",
    "\n",
    "# Find and click the button (assuming it has an ID 'buttonId')\n",
    "button = driver.find_element(By.XPATH,\"//a[contains(@href, \\\"__doPostBack('dnn$ctr513$SALArticlesListing$grdCatDtls','Page$2')\\\")]\")\n",
    "\n",
    "button.click()\n",
    "\n",
    "# Wait for the page to update (if needed)\n",
    "# ...\n",
    "\n",
    "# Extract the updated content\n",
    "updated_html = driver.page_source\n",
    "\n",
    "# Process the updated content using BeautifulSoup or any other parsing library\n",
    "doc = BeautifulSoup(updated_html, \"html.parser\")\n",
    "res = doc.find(class_ = \"container wrapper\")\n",
    "author_name2 = res.find_all(class_ = \"small\")\n",
    "article_title2 = res.find_all('b')\n",
    "\n",
    "\n",
    "\n",
    "author_name_final = author_name1 + author_name2\n",
    "article_title_final = article_title1 + article_title2\n",
    "\n",
    "print(author_name_final)\n",
    "print(article_title_final)\n",
    "y = len(author_name_final)\n",
    "for i in range(y):\n",
    "    tag = author_name_final[i]\n",
    "    text = tag.text.strip()\n",
    "    text = text.replace('\\xa0',' ')\n",
    "    text=text.replace('\\n', ' ')\n",
    "    author_name_final[i] = text\n",
    "    \n",
    "    \n",
    "   \n",
    "\n",
    "x = len(article_title_final)\n",
    "article_title_final_v = []\n",
    "for i in range(x):\n",
    "    title = article_title_final[i]\n",
    "    text_plain = title.text.strip()\n",
    "    \n",
    "    if len(text_plain.split(' '))!= 1:\n",
    "        \n",
    "        article_title_final_v.append(text_plain)\n",
    "    \n",
    "#     text = text.replace('\\xa0',' ')\n",
    "#     text=text.replace('\\n', ' ')\n",
    "#     text_list = text.split(' & ')\n",
    "\n",
    "    \n",
    "article_title_final_v.insert(0,'Introduction')\n",
    "print(author_name_final)\n",
    "print(article_title_final_v)\n",
    "\n",
    "\n",
    "    \n",
    "    \n",
    "\n",
    "\n",
    "\n",
    "# Close the driver\n",
    "driver.quit()\n",
    "\n",
    "\n",
    "\n",
    "\n",
    "\n",
    "\n"
   ]
  },
  {
   "cell_type": "code",
   "execution_count": 10,
   "id": "f93eb031",
   "metadata": {},
   "outputs": [
    {
     "name": "stdout",
     "output_type": "stream",
     "text": [
      "                                        Article Title  \\\n",
      "0                                        Introduction   \n",
      "1   American Law and the Governance of Research Et...   \n",
      "2                      Health Care and Global Justice   \n",
      "3   Regulating the Life Sciences, Pluralism and th...   \n",
      "4   Moral Facts and Objective Law – Challenges for...   \n",
      "5   Life and Death – A Decade of Biomedical Law Ma...   \n",
      "6                            At the Beginning of Life   \n",
      "7         Stem Cell Policies and Regulations in Japan   \n",
      "8   Immoral Inventions – Interaction between Ethic...   \n",
      "9    Significant Bioethical Issues at the End of Life   \n",
      "10  The Challenge of Regulating Human Biomedical R...   \n",
      "11  Safeguard the Integrity of Scientific Research...   \n",
      "\n",
      "                                  Author  Year          Subject  \n",
      "0    Bartha Maria Knoppers & W Calvin Ho  2010  Biomed & Ethics  \n",
      "1                     Alexander M Capron  2010  Biomed & Ethics  \n",
      "2    The Honourable Michael Kirby AC CMG  2010  Biomed & Ethics  \n",
      "3                       Roger Brownsword  2010  Biomed & Ethics  \n",
      "4   The Honourable Justice Choo Han Teck  2010  Biomed & Ethics  \n",
      "5                 Charles Lim Aeng Cheng  2010  Biomed & Ethics  \n",
      "6                 Kaan Sheung-Hung Terry  2010  Biomed & Ethics  \n",
      "7                            Ryuichi Ida  2010  Biomed & Ethics  \n",
      "8                 Elizabeth Siew-Kuan Ng  2010  Biomed & Ethics  \n",
      "9               Jeffrey Chan Wah Teck SC  2010  Biomed & Ethics  \n",
      "10                     Tracey Evans Chan  2010  Biomed & Ethics  \n",
      "11                           W Calvin Ho  2010  Biomed & Ethics  \n"
     ]
    }
   ],
   "source": [
    "import pandas as pd\n",
    "\n",
    "df = pd.DataFrame({'Article Title': article_title_final_v, 'Author': author_name_final})\n",
    "df['Year']= '2010'\n",
    "df['Subject'] = 'Biomed & Ethics'\n",
    "df.to_csv('SI 2010 - Biomed.csv',index=False)\n",
    "\n",
    "\n",
    "print(df)"
   ]
  },
  {
   "cell_type": "markdown",
   "id": "99d8dd9d",
   "metadata": {},
   "source": [
    "## SI 2010 - Land"
   ]
  },
  {
   "cell_type": "code",
   "execution_count": 11,
   "id": "3bd7ecd6",
   "metadata": {},
   "outputs": [
    {
     "name": "stdout",
     "output_type": "stream",
     "text": [
      "['Kevin Gray', 'Barry C Crown', 'Lee Suet Fern & Linda Esther Foo', 'Teo Keang Sood', 'Brian Sloan', 'Tang Hang Wu', 'Bryan  Chew, Vincent Hoong, Tay  Lee Koon & Manimegalai d/o Vellasamy', 'Lye Lin Heng']\n",
      "[<b>Introduction</b>, <b>Gray</b>, <b>Gray</b>, <b>Whither Torrens Title in Singapore?</b>, <b>Crown</b>, <b>Crown</b>, <b>Real Estate Investment Trusts in Singapore - Recent Legal and Regulatory Developments and the Case for Corporatisation</b>, <b>Collective Sales in Singapore - Selected Issues</b>, <b>Teo</b>, <b>Teo</b>, <b>Proprietary Estoppel - Recent Developments in England and Wales</b>, <b>Sloan</b>, <b>Sloan</b>, <b>The Constructive Trust in Singapore - Five Persistent Puzzles</b>, <b>Tang</b>, <b>Tang</b>, <b>Compulsory Acquisition of Land in Singapore - A Fair Regime?</b>, <b>Land Law and the Environment - Re-examining the Concept of Ownership and Forging New Rights and Obligations in a Changed World</b>, <b>Lye</b>, <b>Lye</b>]\n"
     ]
    }
   ],
   "source": [
    "\n",
    "\n",
    "# Set up the Chrome driver\n",
    "service = Service('path/to/chromedriver')\n",
    "options = Options()\n",
    "options.add_argument('--headless')  # Run Chrome in headless mode (without GUI)<a href=\"javascript:\">2</a>\n",
    "driver = webdriver.Chrome(service=service, options=options)\n",
    "\n",
    "# Open the webpage\n",
    "driver.get('https://journalsonline.academypublishing.org.sg/Journals/Singapore-Academy-of-Law-Journal-Special-Issue/e-Archive/ctl/SALArticlesListing/mid/513/IssueId=47')\n",
    "html = driver.page_source\n",
    "\n",
    "#extract content from pg 1\n",
    "author_name_list = []\n",
    "doc = BeautifulSoup(html, \"html.parser\")\n",
    "res = doc.find(class_ = \"container wrapper\")\n",
    "author_name1 = res.find_all(class_ = \"small\")\n",
    "article_title1 = res.find_all('b')\n",
    "\n",
    "\n",
    "author_name_final = author_name1 \n",
    "article_title_final = article_title1 \n",
    "\n",
    "\n",
    "y = len(author_name_final)\n",
    "for i in range(y):\n",
    "    tag = author_name_final[i]\n",
    "    text = tag.text.strip()\n",
    "    text = text.replace('\\xa0',' ')\n",
    "    text=text.replace('\\n', ' ')\n",
    "    author_name_final[i] = text\n",
    "    \n",
    "    \n",
    "   \n",
    "\n",
    "x = len(article_title_final)\n",
    "article_title_final_v = []\n",
    "for i in range(x):\n",
    "    title = article_title_final[i]\n",
    "    text_plain = title.text.strip()\n",
    "    \n",
    "    if len(text_plain.split(' '))!= 1:\n",
    "        \n",
    "        article_title_final_v.append(text_plain)\n",
    "    \n",
    "#     text = text.replace('\\xa0',' ')\n",
    "#     text=text.replace('\\n', ' ')\n",
    "#     text_list = text.split(' & ')\n",
    "article_title_final_v.insert(0,'Introduction')\n",
    "    \n",
    "print(author_name_final)\n",
    "print(article_title_final)\n",
    "\n",
    "\n",
    "    \n",
    "    \n",
    "\n",
    "\n",
    "\n",
    "# Close the driver\n",
    "driver.quit()"
   ]
  },
  {
   "cell_type": "code",
   "execution_count": 12,
   "id": "ded0b97b",
   "metadata": {},
   "outputs": [
    {
     "name": "stdout",
     "output_type": "stream",
     "text": [
      "                                       Article Title  \\\n",
      "0                                       Introduction   \n",
      "1                Whither Torrens Title in Singapore?   \n",
      "2  Real Estate Investment Trusts in Singapore - R...   \n",
      "3    Collective Sales in Singapore - Selected Issues   \n",
      "4  Proprietary Estoppel - Recent Developments in ...   \n",
      "5  The Constructive Trust in Singapore - Five Per...   \n",
      "6  Compulsory Acquisition of Land in Singapore - ...   \n",
      "7  Land Law and the Environment - Re-examining th...   \n",
      "\n",
      "                                              Author  Year Subject  \n",
      "0                                         Kevin Gray  2010    Land  \n",
      "1                                      Barry C Crown  2010    Land  \n",
      "2                   Lee Suet Fern & Linda Esther Foo  2010    Land  \n",
      "3                                     Teo Keang Sood  2010    Land  \n",
      "4                                        Brian Sloan  2010    Land  \n",
      "5                                       Tang Hang Wu  2010    Land  \n",
      "6  Bryan  Chew, Vincent Hoong, Tay  Lee Koon & Ma...  2010    Land  \n",
      "7                                       Lye Lin Heng  2010    Land  \n"
     ]
    }
   ],
   "source": [
    "df = pd.DataFrame({'Article Title': article_title_final_v, 'Author': author_name_final})\n",
    "df['Year']= '2010'\n",
    "df['Subject'] = 'Land'\n",
    "df.to_csv('SI 2010 - Land.csv',index=False)\n",
    "\n",
    "\n",
    "print(df)"
   ]
  },
  {
   "cell_type": "code",
   "execution_count": null,
   "id": "ea7fcbf8",
   "metadata": {},
   "outputs": [],
   "source": []
  }
 ],
 "metadata": {
  "kernelspec": {
   "display_name": "Python 3 (ipykernel)",
   "language": "python",
   "name": "python3"
  },
  "language_info": {
   "codemirror_mode": {
    "name": "ipython",
    "version": 3
   },
   "file_extension": ".py",
   "mimetype": "text/x-python",
   "name": "python",
   "nbconvert_exporter": "python",
   "pygments_lexer": "ipython3",
   "version": "3.9.15"
  }
 },
 "nbformat": 4,
 "nbformat_minor": 5
}
